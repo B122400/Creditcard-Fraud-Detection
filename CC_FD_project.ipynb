{
  "cells": [
    {
      "cell_type": "code",
      "execution_count": null,
      "metadata": {
        "id": "o5o9jrqsb6wi"
      },
      "outputs": [],
      "source": [
        "# Importing Library\n",
        "import numpy as np\n",
        "import pandas as pd\n",
        "import matplotlib.pyplot as plt\n",
        "import seaborn as sns\n",
        "from sklearn.preprocessing import StandardScaler\n",
        "    \n",
        "from keras.models import Sequential\n",
        "from keras.layers import Dense, Dropout\n",
        "\n",
        "from keras.utils.vis_utils import plot_model\n",
        "\n",
        "from sklearn.metrics import confusion_matrix\n",
        "from sklearn.metrics import classification_report"
      ]
    },
    {
      "cell_type": "code",
      "execution_count": null,
      "metadata": {
        "id": "TmYjXqxLb6wn",
        "outputId": "14d9ac2f-fa6c-42fc-d2fb-234b00f67ecb"
      },
      "outputs": [
        {
          "data": {
            "text/html": [
              "<div>\n",
              "<style scoped>\n",
              "    .dataframe tbody tr th:only-of-type {\n",
              "        vertical-align: middle;\n",
              "    }\n",
              "\n",
              "    .dataframe tbody tr th {\n",
              "        vertical-align: top;\n",
              "    }\n",
              "\n",
              "    .dataframe thead th {\n",
              "        text-align: right;\n",
              "    }\n",
              "</style>\n",
              "<table border=\"1\" class=\"dataframe\">\n",
              "  <thead>\n",
              "    <tr style=\"text-align: right;\">\n",
              "      <th></th>\n",
              "      <th>Time</th>\n",
              "      <th>V1</th>\n",
              "      <th>V2</th>\n",
              "      <th>V3</th>\n",
              "      <th>V4</th>\n",
              "      <th>V5</th>\n",
              "      <th>V6</th>\n",
              "      <th>V7</th>\n",
              "      <th>V8</th>\n",
              "      <th>V9</th>\n",
              "      <th>...</th>\n",
              "      <th>V21</th>\n",
              "      <th>V22</th>\n",
              "      <th>V23</th>\n",
              "      <th>V24</th>\n",
              "      <th>V25</th>\n",
              "      <th>V26</th>\n",
              "      <th>V27</th>\n",
              "      <th>V28</th>\n",
              "      <th>Amount</th>\n",
              "      <th>Class</th>\n",
              "    </tr>\n",
              "  </thead>\n",
              "  <tbody>\n",
              "    <tr>\n",
              "      <th>261315</th>\n",
              "      <td>159959.0</td>\n",
              "      <td>-0.488192</td>\n",
              "      <td>-0.437563</td>\n",
              "      <td>1.608357</td>\n",
              "      <td>-3.186740</td>\n",
              "      <td>-0.469307</td>\n",
              "      <td>-0.146584</td>\n",
              "      <td>-0.093992</td>\n",
              "      <td>-0.057026</td>\n",
              "      <td>-1.586689</td>\n",
              "      <td>...</td>\n",
              "      <td>-0.292590</td>\n",
              "      <td>-0.289366</td>\n",
              "      <td>-0.389381</td>\n",
              "      <td>0.399426</td>\n",
              "      <td>0.634561</td>\n",
              "      <td>-0.158698</td>\n",
              "      <td>0.098354</td>\n",
              "      <td>-0.111071</td>\n",
              "      <td>12.00</td>\n",
              "      <td>0</td>\n",
              "    </tr>\n",
              "    <tr>\n",
              "      <th>235526</th>\n",
              "      <td>148425.0</td>\n",
              "      <td>-1.276671</td>\n",
              "      <td>0.601494</td>\n",
              "      <td>-0.557241</td>\n",
              "      <td>1.234944</td>\n",
              "      <td>0.627121</td>\n",
              "      <td>-1.039167</td>\n",
              "      <td>1.114212</td>\n",
              "      <td>0.128358</td>\n",
              "      <td>-0.536276</td>\n",
              "      <td>...</td>\n",
              "      <td>0.095353</td>\n",
              "      <td>0.620665</td>\n",
              "      <td>0.506430</td>\n",
              "      <td>-0.042516</td>\n",
              "      <td>0.177606</td>\n",
              "      <td>-0.350116</td>\n",
              "      <td>0.306395</td>\n",
              "      <td>0.076940</td>\n",
              "      <td>81.21</td>\n",
              "      <td>0</td>\n",
              "    </tr>\n",
              "    <tr>\n",
              "      <th>29707</th>\n",
              "      <td>35596.0</td>\n",
              "      <td>1.202770</td>\n",
              "      <td>-0.073810</td>\n",
              "      <td>0.377508</td>\n",
              "      <td>-0.176963</td>\n",
              "      <td>-0.497348</td>\n",
              "      <td>-0.541176</td>\n",
              "      <td>-0.183002</td>\n",
              "      <td>0.068067</td>\n",
              "      <td>0.052868</td>\n",
              "      <td>...</td>\n",
              "      <td>-0.148872</td>\n",
              "      <td>-0.465222</td>\n",
              "      <td>0.164597</td>\n",
              "      <td>0.243645</td>\n",
              "      <td>0.013467</td>\n",
              "      <td>0.849898</td>\n",
              "      <td>-0.079358</td>\n",
              "      <td>-0.009478</td>\n",
              "      <td>1.00</td>\n",
              "      <td>0</td>\n",
              "    </tr>\n",
              "    <tr>\n",
              "      <th>179293</th>\n",
              "      <td>124008.0</td>\n",
              "      <td>2.119810</td>\n",
              "      <td>-1.000273</td>\n",
              "      <td>-0.905388</td>\n",
              "      <td>-1.022006</td>\n",
              "      <td>-0.870353</td>\n",
              "      <td>-0.646141</td>\n",
              "      <td>-0.799151</td>\n",
              "      <td>0.035800</td>\n",
              "      <td>-0.220549</td>\n",
              "      <td>...</td>\n",
              "      <td>-0.233381</td>\n",
              "      <td>-0.911452</td>\n",
              "      <td>0.450459</td>\n",
              "      <td>-0.514214</td>\n",
              "      <td>-0.635204</td>\n",
              "      <td>-0.677537</td>\n",
              "      <td>-0.030878</td>\n",
              "      <td>-0.059306</td>\n",
              "      <td>29.97</td>\n",
              "      <td>0</td>\n",
              "    </tr>\n",
              "    <tr>\n",
              "      <th>67354</th>\n",
              "      <td>52491.0</td>\n",
              "      <td>1.284651</td>\n",
              "      <td>-0.771749</td>\n",
              "      <td>0.199394</td>\n",
              "      <td>-0.736609</td>\n",
              "      <td>-0.758380</td>\n",
              "      <td>0.014546</td>\n",
              "      <td>-0.696750</td>\n",
              "      <td>0.152946</td>\n",
              "      <td>-0.689441</td>\n",
              "      <td>...</td>\n",
              "      <td>0.071639</td>\n",
              "      <td>0.110049</td>\n",
              "      <td>-0.064147</td>\n",
              "      <td>-0.310406</td>\n",
              "      <td>0.431707</td>\n",
              "      <td>-0.220314</td>\n",
              "      <td>0.005408</td>\n",
              "      <td>-0.001111</td>\n",
              "      <td>39.85</td>\n",
              "      <td>0</td>\n",
              "    </tr>\n",
              "    <tr>\n",
              "      <th>22497</th>\n",
              "      <td>32275.0</td>\n",
              "      <td>1.051014</td>\n",
              "      <td>0.217090</td>\n",
              "      <td>-0.043080</td>\n",
              "      <td>1.232934</td>\n",
              "      <td>0.091277</td>\n",
              "      <td>-0.625583</td>\n",
              "      <td>0.555895</td>\n",
              "      <td>-0.187971</td>\n",
              "      <td>-0.332753</td>\n",
              "      <td>...</td>\n",
              "      <td>-0.253042</td>\n",
              "      <td>-0.902041</td>\n",
              "      <td>0.047087</td>\n",
              "      <td>0.036664</td>\n",
              "      <td>0.398398</td>\n",
              "      <td>-0.626084</td>\n",
              "      <td>-0.003245</td>\n",
              "      <td>0.031341</td>\n",
              "      <td>87.31</td>\n",
              "      <td>0</td>\n",
              "    </tr>\n",
              "    <tr>\n",
              "      <th>70781</th>\n",
              "      <td>54016.0</td>\n",
              "      <td>1.240602</td>\n",
              "      <td>0.361307</td>\n",
              "      <td>0.068317</td>\n",
              "      <td>0.861697</td>\n",
              "      <td>0.361290</td>\n",
              "      <td>0.041526</td>\n",
              "      <td>0.168890</td>\n",
              "      <td>-0.074655</td>\n",
              "      <td>-0.105791</td>\n",
              "      <td>...</td>\n",
              "      <td>-0.186514</td>\n",
              "      <td>-0.444268</td>\n",
              "      <td>-0.046799</td>\n",
              "      <td>-0.772629</td>\n",
              "      <td>0.546897</td>\n",
              "      <td>-0.474359</td>\n",
              "      <td>0.040610</td>\n",
              "      <td>0.017512</td>\n",
              "      <td>9.82</td>\n",
              "      <td>0</td>\n",
              "    </tr>\n",
              "    <tr>\n",
              "      <th>5997</th>\n",
              "      <td>6715.0</td>\n",
              "      <td>0.120374</td>\n",
              "      <td>-1.851031</td>\n",
              "      <td>1.792637</td>\n",
              "      <td>2.632953</td>\n",
              "      <td>-1.528636</td>\n",
              "      <td>2.255683</td>\n",
              "      <td>-1.141083</td>\n",
              "      <td>0.685180</td>\n",
              "      <td>2.340793</td>\n",
              "      <td>...</td>\n",
              "      <td>0.239812</td>\n",
              "      <td>0.432055</td>\n",
              "      <td>-0.387534</td>\n",
              "      <td>-0.220359</td>\n",
              "      <td>-0.109109</td>\n",
              "      <td>1.140698</td>\n",
              "      <td>-0.059899</td>\n",
              "      <td>0.076369</td>\n",
              "      <td>438.14</td>\n",
              "      <td>0</td>\n",
              "    </tr>\n",
              "    <tr>\n",
              "      <th>208847</th>\n",
              "      <td>137298.0</td>\n",
              "      <td>-0.847229</td>\n",
              "      <td>1.114503</td>\n",
              "      <td>1.358786</td>\n",
              "      <td>-0.367983</td>\n",
              "      <td>-0.222470</td>\n",
              "      <td>-0.182499</td>\n",
              "      <td>0.098992</td>\n",
              "      <td>0.438003</td>\n",
              "      <td>-0.063659</td>\n",
              "      <td>...</td>\n",
              "      <td>-0.026354</td>\n",
              "      <td>-0.154383</td>\n",
              "      <td>0.023564</td>\n",
              "      <td>1.079465</td>\n",
              "      <td>-0.327474</td>\n",
              "      <td>-0.597865</td>\n",
              "      <td>-0.088984</td>\n",
              "      <td>0.086431</td>\n",
              "      <td>4.99</td>\n",
              "      <td>0</td>\n",
              "    </tr>\n",
              "    <tr>\n",
              "      <th>22877</th>\n",
              "      <td>32483.0</td>\n",
              "      <td>1.241662</td>\n",
              "      <td>0.110585</td>\n",
              "      <td>0.507395</td>\n",
              "      <td>0.548632</td>\n",
              "      <td>-0.630589</td>\n",
              "      <td>-1.027516</td>\n",
              "      <td>-0.023530</td>\n",
              "      <td>-0.130579</td>\n",
              "      <td>0.251145</td>\n",
              "      <td>...</td>\n",
              "      <td>-0.360917</td>\n",
              "      <td>-1.143151</td>\n",
              "      <td>0.209271</td>\n",
              "      <td>0.331096</td>\n",
              "      <td>0.060271</td>\n",
              "      <td>0.105779</td>\n",
              "      <td>-0.045746</td>\n",
              "      <td>0.018649</td>\n",
              "      <td>11.87</td>\n",
              "      <td>0</td>\n",
              "    </tr>\n",
              "  </tbody>\n",
              "</table>\n",
              "<p>10 rows × 31 columns</p>\n",
              "</div>"
            ],
            "text/plain": [
              "            Time        V1        V2        V3        V4        V5        V6  \\\n",
              "261315  159959.0 -0.488192 -0.437563  1.608357 -3.186740 -0.469307 -0.146584   \n",
              "235526  148425.0 -1.276671  0.601494 -0.557241  1.234944  0.627121 -1.039167   \n",
              "29707    35596.0  1.202770 -0.073810  0.377508 -0.176963 -0.497348 -0.541176   \n",
              "179293  124008.0  2.119810 -1.000273 -0.905388 -1.022006 -0.870353 -0.646141   \n",
              "67354    52491.0  1.284651 -0.771749  0.199394 -0.736609 -0.758380  0.014546   \n",
              "22497    32275.0  1.051014  0.217090 -0.043080  1.232934  0.091277 -0.625583   \n",
              "70781    54016.0  1.240602  0.361307  0.068317  0.861697  0.361290  0.041526   \n",
              "5997      6715.0  0.120374 -1.851031  1.792637  2.632953 -1.528636  2.255683   \n",
              "208847  137298.0 -0.847229  1.114503  1.358786 -0.367983 -0.222470 -0.182499   \n",
              "22877    32483.0  1.241662  0.110585  0.507395  0.548632 -0.630589 -1.027516   \n",
              "\n",
              "              V7        V8        V9  ...       V21       V22       V23  \\\n",
              "261315 -0.093992 -0.057026 -1.586689  ... -0.292590 -0.289366 -0.389381   \n",
              "235526  1.114212  0.128358 -0.536276  ...  0.095353  0.620665  0.506430   \n",
              "29707  -0.183002  0.068067  0.052868  ... -0.148872 -0.465222  0.164597   \n",
              "179293 -0.799151  0.035800 -0.220549  ... -0.233381 -0.911452  0.450459   \n",
              "67354  -0.696750  0.152946 -0.689441  ...  0.071639  0.110049 -0.064147   \n",
              "22497   0.555895 -0.187971 -0.332753  ... -0.253042 -0.902041  0.047087   \n",
              "70781   0.168890 -0.074655 -0.105791  ... -0.186514 -0.444268 -0.046799   \n",
              "5997   -1.141083  0.685180  2.340793  ...  0.239812  0.432055 -0.387534   \n",
              "208847  0.098992  0.438003 -0.063659  ... -0.026354 -0.154383  0.023564   \n",
              "22877  -0.023530 -0.130579  0.251145  ... -0.360917 -1.143151  0.209271   \n",
              "\n",
              "             V24       V25       V26       V27       V28  Amount  Class  \n",
              "261315  0.399426  0.634561 -0.158698  0.098354 -0.111071   12.00      0  \n",
              "235526 -0.042516  0.177606 -0.350116  0.306395  0.076940   81.21      0  \n",
              "29707   0.243645  0.013467  0.849898 -0.079358 -0.009478    1.00      0  \n",
              "179293 -0.514214 -0.635204 -0.677537 -0.030878 -0.059306   29.97      0  \n",
              "67354  -0.310406  0.431707 -0.220314  0.005408 -0.001111   39.85      0  \n",
              "22497   0.036664  0.398398 -0.626084 -0.003245  0.031341   87.31      0  \n",
              "70781  -0.772629  0.546897 -0.474359  0.040610  0.017512    9.82      0  \n",
              "5997   -0.220359 -0.109109  1.140698 -0.059899  0.076369  438.14      0  \n",
              "208847  1.079465 -0.327474 -0.597865 -0.088984  0.086431    4.99      0  \n",
              "22877   0.331096  0.060271  0.105779 -0.045746  0.018649   11.87      0  \n",
              "\n",
              "[10 rows x 31 columns]"
            ]
          },
          "execution_count": 2,
          "metadata": {},
          "output_type": "execute_result"
        }
      ],
      "source": [
        "#Reading Dataset\n",
        "dataset = pd.read_csv('creditcard_data.csv')\n",
        "dataset.sample(10)"
      ]
    },
    {
      "cell_type": "code",
      "execution_count": null,
      "metadata": {
        "id": "5poAzR5rb6wq"
      },
      "outputs": [],
      "source": [
        "# Scaling the data\n",
        "dataset['standard'] = StandardScaler().fit_transform(dataset['Amount'].values.reshape(-1,1))\n",
        "\n",
        "\n",
        "#Cretating Independant variable Y and Array of Dependant variable X\n",
        "y = np.array(dataset.iloc[:,-2])\n",
        "X = np.array(dataset.drop(['Time', 'Amount', 'Class'], axis=1))\n",
        "\n",
        "# Spliting Data into training and testing set and validation set\n",
        "from sklearn.model_selection import train_test_split\n",
        "X_train, X_test, y_train, y_test = train_test_split(X,y,test_size=0.2,random_state=111)\n",
        "X_train, X_validate, y_train, y_validate = train_test_split(X_train,y_train,test_size=0.2, random_state=111)"
      ]
    },
    {
      "cell_type": "code",
      "execution_count": null,
      "metadata": {
        "id": "99AFHkwIb6ws",
        "outputId": "40300df9-999a-476f-d5b6-5576a8404d96"
      },
      "outputs": [
        {
          "name": "stdout",
          "output_type": "stream",
          "text": [
            "Model: \"sequential_2\"\n",
            "_________________________________________________________________\n",
            " Layer (type)                Output Shape              Param #   \n",
            "=================================================================\n",
            " dense_10 (Dense)            (None, 16)                480       \n",
            "                                                                 \n",
            " dense_11 (Dense)            (None, 24)                408       \n",
            "                                                                 \n",
            " dropout_2 (Dropout)         (None, 24)                0         \n",
            "                                                                 \n",
            " dense_12 (Dense)            (None, 20)                500       \n",
            "                                                                 \n",
            " dense_13 (Dense)            (None, 24)                504       \n",
            "                                                                 \n",
            " dense_14 (Dense)            (None, 1)                 25        \n",
            "                                                                 \n",
            "=================================================================\n",
            "Total params: 1,917\n",
            "Trainable params: 1,917\n",
            "Non-trainable params: 0\n",
            "_________________________________________________________________\n"
          ]
        }
      ],
      "source": [
        "#Input Layer\n",
        "\n",
        "classifier = Sequential()\n",
        "classifier.add(Dense(units=16, input_dim=29, activation='relu'))\n",
        "# Hidden Layer (Relu)\n",
        "classifier.add(Dense(24, activation='relu'))\n",
        "classifier.add(Dropout(0.25))\n",
        "classifier.add(Dense(20, activation='relu'))\n",
        "classifier.add(Dense(24, activation='relu'))\n",
        "# Output Layer (Sigmoid)\n",
        "classifier.add(Dense(1, activation='sigmoid'))\n",
        "classifier.compile(optimizer='adam', loss='binary_crossentropy',metrics=['accuracy'])\n",
        "classifier.summary()"
      ]
    },
    {
      "cell_type": "code",
      "execution_count": null,
      "metadata": {
        "id": "YrW5vNHpb6wt",
        "outputId": "584eaeb2-168a-4471-8b29-4d5a79aabcb6"
      },
      "outputs": [
        {
          "data": {
            "image/png": "[encoded data removed]",
            "text/plain": [
              "<IPython.core.display.Image object>"
            ]
          },
          "execution_count": 32,
          "metadata": {},
          "output_type": "execute_result"
        }
      ],
      "source": [
        "from keras.utils.vis_utils import plot_model\n",
        "plot_model(classifier, show_shapes=True,show_layer_names=False)"
      ]
    },
    {
      "cell_type": "code",
      "execution_count": null,
      "metadata": {
        "id": "TpsbIy2Mb6wt",
        "outputId": "5c2034c3-0fe9-4878-a6b8-6d30b2295c01"
      },
      "outputs": [
        {
          "name": "stdout",
          "output_type": "stream",
          "text": [
            "Epoch 1/5\n",
            "5697/5697 [==============================] - 30s 5ms/step - loss: 0.0120 - accuracy: 0.9978 - val_loss: 0.0034 - val_accuracy: 0.9994\n",
            "Epoch 2/5\n",
            "5697/5697 [==============================] - 29s 5ms/step - loss: 0.0039 - accuracy: 0.9994 - val_loss: 0.0029 - val_accuracy: 0.9994\n",
            "Epoch 3/5\n",
            "5697/5697 [==============================] - 32s 6ms/step - loss: 0.0034 - accuracy: 0.9994 - val_loss: 0.0028 - val_accuracy: 0.9994\n",
            "Epoch 4/5\n",
            "5697/5697 [==============================] - 29s 5ms/step - loss: 0.0033 - accuracy: 0.9994 - val_loss: 0.0027 - val_accuracy: 0.9994\n",
            "Epoch 5/5\n",
            "5697/5697 [==============================] - 22s 4ms/step - loss: 0.0030 - accuracy: 0.9995 - val_loss: 0.0028 - val_accuracy: 0.9994\n",
            "dict_keys(['loss', 'accuracy', 'val_loss', 'val_accuracy'])\n"
          ]
        }
      ],
      "source": [
        "run_model = classifier.fit(X_train, y_train,\n",
        "                           batch_size = 32,\n",
        "                           epochs = 5,\n",
        "                           verbose = 1,\n",
        "                           validation_data = (X_validate, y_validate))\n",
        "\n",
        "# Displaying the parameters of the model\n",
        "print(run_model.history.keys())"
      ]
    },
    {
      "cell_type": "code",
      "execution_count": null,
      "metadata": {
        "id": "foQktaLYb6wu",
        "outputId": "cc589852-ee28-4ef0-d03a-1da556413a7c"
      },
      "outputs": [
        {
          "data": {
            "image/png": "[encoded data removed]",
            "text/plain": [
              "<Figure size 432x288 with 1 Axes>"
            ]
          },
          "metadata": {
            "needs_background": "light"
          },
          "output_type": "display_data"
        },
        {
          "data": {
            "image/png": "[encoded data removed]",
            "text/plain": [
              "<Figure size 432x288 with 1 Axes>"
            ]
          },
          "metadata": {
            "needs_background": "light"
          },
          "output_type": "display_data"
        }
      ],
      "source": [
        "# Plot accuracy training dan validation set\n",
        "plt.plot(run_model.history['accuracy'])\n",
        "plt.plot(run_model.history['val_accuracy'])\n",
        "plt.title('Model Accuracy')\n",
        "plt.xlabel('Epoch')\n",
        "plt.ylabel('Accuracy')\n",
        "plt.legend(['train', 'validate'], loc='upper left')\n",
        "plt.show()\n",
        "\n",
        "plt.plot(run_model.history['loss'])\n",
        "plt.plot(run_model.history['val_loss'])\n",
        "plt.title('Model Loss')\n",
        "plt.xlabel('Epoch')\n",
        "plt.ylabel('Lost')\n",
        "plt.legend(['train', 'validate'], loc='upper left')\n",
        "plt.show()"
      ]
    },
    {
      "cell_type": "code",
      "execution_count": null,
      "metadata": {
        "id": "8PiacG5jb6wv",
        "outputId": "fd6907f4-86ea-42d6-db34-b753cf6b7e43"
      },
      "outputs": [
        {
          "name": "stdout",
          "output_type": "stream",
          "text": [
            "1781/1781 [==============================] - 6s 3ms/step - loss: 0.0023 - accuracy: 0.9995\n",
            "Accuracy:99.95\n"
          ]
        }
      ],
      "source": [
        "evaluation = classifier.evaluate(X_test, y_test)\n",
        "print('Accuracy:{:.2f}'.format(evaluation[1]*100))"
      ]
    },
    {
      "cell_type": "code",
      "execution_count": null,
      "metadata": {
        "id": "uZc-DgTvb6wv",
        "outputId": "5cbb6328-36a3-4cf6-a20a-0ebd4cdafff2"
      },
      "outputs": [
        {
          "data": {
            "text/plain": [
              "<AxesSubplot:xlabel='Predicted', ylabel='Actual'>"
            ]
          },
          "execution_count": 36,
          "metadata": {},
          "output_type": "execute_result"
        },
        {
          "data": {
            "image/png": "[encoded data removed]",
            "text/plain": [
              "<Figure size 432x288 with 2 Axes>"
            ]
          },
          "metadata": {
            "needs_background": "light"
          },
          "output_type": "display_data"
        }
      ],
      "source": [
        "model_prediction = (classifier.predict(X_test) > 0.5).astype(\"int32\")\n",
        "#Confusion Matrix Heatmap\n",
        "\n",
        "cm = confusion_matrix(y_test, model_prediction)\n",
        "cm_label = pd.DataFrame(cm, columns=np.unique(y_test), index=np.unique(y_test))\n",
        "cm_label.index.name = 'Actual'\n",
        "cm_label.columns.name = 'Predicted'\n",
        "\n",
        "sns.heatmap(cm_label, annot=True, cmap='Reds', fmt='g')\n"
      ]
    },
    {
      "cell_type": "code",
      "execution_count": null,
      "metadata": {
        "id": "Nyt7rvNFb6ww",
        "outputId": "068a005c-cabb-4c61-ae5a-9428d972cbae"
      },
      "outputs": [
        {
          "name": "stdout",
          "output_type": "stream",
          "text": [
            "              precision    recall  f1-score   support\n",
            "\n",
            "     Class 0       1.00      1.00      1.00     56861\n",
            "     Class 1       0.84      0.86      0.85       101\n",
            "\n",
            "    accuracy                           1.00     56962\n",
            "   macro avg       0.92      0.93      0.92     56962\n",
            "weighted avg       1.00      1.00      1.00     56962\n",
            "\n"
          ]
        }
      ],
      "source": [
        "# Classification Report\n",
        "print(classification_report(y_test, model_prediction, \n",
        "                            target_names = target_names))"
      ]
    },
    {
      "cell_type": "code",
      "execution_count": null,
      "metadata": {
        "id": "uyYuPpshb6wx",
        "outputId": "bf893758-7c05-446b-d6c3-4d30ef444d08"
      },
      "outputs": [
        {
          "name": "stdout",
          "output_type": "stream",
          "text": [
            "0    284315\n",
            "1       492\n",
            "Name: Class, dtype: int64\n"
          ]
        },
        {
          "data": {
            "text/plain": [
              "<AxesSubplot:>"
            ]
          },
          "execution_count": 38,
          "metadata": {},
          "output_type": "execute_result"
        },
        {
          "data": {
            "image/png": "[encoded data removed]",
            "text/plain": [
              "<Figure size 432x288 with 1 Axes>"
            ]
          },
          "metadata": {
            "needs_background": "light"
          },
          "output_type": "display_data"
        }
      ],
      "source": [
        "print(dataset[\"Class\"].value_counts())\n",
        "dataset[\"Class\"].value_counts().plot(kind=\"bar\")"
      ]
    },
    {
      "cell_type": "code",
      "execution_count": null,
      "metadata": {
        "id": "kwnemtMPb6wy",
        "outputId": "709bef26-7469-4ba2-90d7-c1365326e5da"
      },
      "outputs": [
        {
          "name": "stdout",
          "output_type": "stream",
          "text": [
            "Model: \"sequential_3\"\n",
            "_________________________________________________________________\n",
            " Layer (type)                Output Shape              Param #   \n",
            "=================================================================\n",
            " dense_15 (Dense)            (None, 16)                480       \n",
            "                                                                 \n",
            " dense_16 (Dense)            (None, 24)                408       \n",
            "                                                                 \n",
            " dropout_3 (Dropout)         (None, 24)                0         \n",
            "                                                                 \n",
            " dense_17 (Dense)            (None, 20)                500       \n",
            "                                                                 \n",
            " dense_18 (Dense)            (None, 24)                504       \n",
            "                                                                 \n",
            " dense_19 (Dense)            (None, 1)                 25        \n",
            "                                                                 \n",
            "=================================================================\n",
            "Total params: 1,917\n",
            "Trainable params: 1,917\n",
            "Non-trainable params: 0\n",
            "_________________________________________________________________\n"
          ]
        }
      ],
      "source": [
        "#To Overcome disadvantages of biased Dataset we use technique called as undersampling\n",
        "index_fraud = np.array(dataset[dataset.Class == 1].index)\n",
        "n_fraud = len(index_fraud)\n",
        "index_normal = np.array(dataset[dataset.Class == 0].index)\n",
        "index_data_normal = np.random.choice(index_normal, n_fraud, replace=False)\n",
        "index_data_baru = np.concatenate([index_fraud, index_data_normal])\n",
        "data_baru = dataset.iloc[index_data_baru,:]\n",
        "\n",
        "# Saperating Independant variable Class and a Array of depandant variable by droping unimportant features\n",
        "y_baru = np.array(data_baru.iloc[:,-2])\n",
        "X_baru = np.array(data_baru.drop(['Time', 'Amount', 'Class'], axis=1))\n",
        "\n",
        "# Spliting dataset in X_train2 and X_test_final\n",
        "X_train2, X_test_final, y_train2, y_test_final = train_test_split(X_baru, y_baru, test_size=0.1, random_state=111)\n",
        "\n",
        "# X_train2 , Y_train2 ,X_test2 ,Y_test2\n",
        "X_train2, X_test2, y_train2, y_test2 = train_test_split(X_train2, y_train2, test_size=0.1, random_state=111)\n",
        "\n",
        "# Creating Partition for validation\n",
        "X_train2, X_validate2, y_train2, y_validate2 = train_test_split(X_train2, y_train2, test_size=0.2, random_state=111)\n",
        "\n",
        "\n",
        "# Creating ANN for Unbalanced Dataset\n",
        "#Input Layer\n",
        "classifier2 = Sequential()\n",
        "classifier2.add(Dense(units=16, input_dim=29, activation='relu'))\n",
        "# Hidden Layer (Relu)\n",
        "classifier2.add(Dense(24, activation='relu'))\n",
        "classifier2.add(Dropout(0.25))\n",
        "classifier2.add(Dense(20, activation='relu'))\n",
        "classifier2.add(Dense(24, activation='relu'))\n",
        "# Output Layer (Sigmoid)\n",
        "classifier2.add(Dense(1, activation='sigmoid'))\n",
        "classifier2.compile(optimizer='adam', loss='binary_crossentropy',\n",
        "                   metrics=['accuracy'])\n",
        "classifier2.summary()\n"
      ]
    },
    {
      "cell_type": "code",
      "execution_count": null,
      "metadata": {
        "id": "0hwNaOK4b6wz",
        "outputId": "48cad695-5c38-4071-f8a5-a89f86850613"
      },
      "outputs": [
        {
          "name": "stdout",
          "output_type": "stream",
          "text": [
            "Epoch 1/5\n",
            "80/80 [==============================] - 2s 7ms/step - loss: 0.4858 - accuracy: 0.7531 - val_loss: 0.3364 - val_accuracy: 0.9125\n",
            "Epoch 2/5\n",
            "80/80 [==============================] - 0s 4ms/step - loss: 0.2540 - accuracy: 0.9230 - val_loss: 0.2090 - val_accuracy: 0.9187\n",
            "Epoch 3/5\n",
            "80/80 [==============================] - 0s 4ms/step - loss: 0.1929 - accuracy: 0.9340 - val_loss: 0.1959 - val_accuracy: 0.9125\n",
            "Epoch 4/5\n",
            "80/80 [==============================] - 0s 4ms/step - loss: 0.1551 - accuracy: 0.9387 - val_loss: 0.2081 - val_accuracy: 0.9250\n",
            "Epoch 5/5\n",
            "80/80 [==============================] - 0s 4ms/step - loss: 0.1407 - accuracy: 0.9481 - val_loss: 0.1992 - val_accuracy: 0.9187\n"
          ]
        }
      ],
      "source": [
        "run_model2 = classifier2.fit(X_train2, y_train2,\n",
        "                           batch_size = 8,\n",
        "                           epochs = 5,\n",
        "                           verbose = 1,\n",
        "                           validation_data = (X_validate2, y_validate2))\n"
      ]
    },
    {
      "cell_type": "code",
      "execution_count": null,
      "metadata": {
        "id": "ZmZoDL9sb6w0",
        "outputId": "3868fb78-06d6-4f38-99be-3226e673eb1b"
      },
      "outputs": [
        {
          "data": {
            "image/png": "[encoded data removed]",
            "text/plain": [
              "<Figure size 432x288 with 1 Axes>"
            ]
          },
          "metadata": {
            "needs_background": "light"
          },
          "output_type": "display_data"
        },
        {
          "data": {
            "image/png": "[encoded data removed]",
            "text/plain": [
              "<Figure size 432x288 with 1 Axes>"
            ]
          },
          "metadata": {
            "needs_background": "light"
          },
          "output_type": "display_data"
        }
      ],
      "source": [
        "plt.plot(run_model2.history['accuracy'])\n",
        "plt.plot(run_model2.history['val_accuracy'])\n",
        "plt.title('Model Accuracy')\n",
        "plt.xlabel('Epoch')\n",
        "plt.ylabel('Accuracy')\n",
        "plt.legend(['train', 'validate'], loc='upper left')\n",
        "plt.show()\n",
        "\n",
        "plt.plot(run_model2.history['loss'])\n",
        "plt.plot(run_model2.history['val_loss'])\n",
        "plt.title('Model Loss')\n",
        "plt.xlabel('Epoch')\n",
        "plt.ylabel('Lost')\n",
        "plt.legend(['train', 'validate'], loc='upper left')\n",
        "plt.show()\n"
      ]
    },
    {
      "cell_type": "code",
      "execution_count": null,
      "metadata": {
        "id": "e7KNiH--b6w0",
        "outputId": "101d5d02-6bf4-424d-89d0-84cfddbda30e"
      },
      "outputs": [
        {
          "name": "stdout",
          "output_type": "stream",
          "text": [
            "3/3 [==============================] - 0s 11ms/step - loss: 0.2353 - accuracy: 0.9326\n",
            "Accuracy:93.26\n"
          ]
        }
      ],
      "source": [
        "evaluation2 = classifier2.evaluate(X_test2, y_test2)\n",
        "print('Accuracy:{:.2f}'.format(evaluation2[1]*100))"
      ]
    },
    {
      "cell_type": "code",
      "execution_count": null,
      "metadata": {
        "id": "9I4Q6vlmb6w1",
        "outputId": "cb8492d2-7f9f-4667-ff17-7dbcc9a3bef7"
      },
      "outputs": [
        {
          "data": {
            "text/plain": [
              "<AxesSubplot:xlabel='Predicted', ylabel='Actual'>"
            ]
          },
          "execution_count": 44,
          "metadata": {},
          "output_type": "execute_result"
        },
        {
          "data": {
            "image/png": "[encoded data removed]",
            "text/plain": [
              "<Figure size 432x288 with 2 Axes>"
            ]
          },
          "metadata": {
            "needs_background": "light"
          },
          "output_type": "display_data"
        }
      ],
      "source": [
        "model_prediction3 = (classifier2.predict(X_test_final) > 0.5).astype(\"int32\")\n",
        "cm3 = confusion_matrix(y_test_final, model_prediction3)\n",
        "cm_label3 = pd.DataFrame(cm3, columns=np.unique(y_test_final), index=np.unique(y_test_final))\n",
        "cm_label3.index.name = 'Actual'\n",
        "cm_label3.columns.name = 'Predicted'\n",
        "sns.heatmap(cm_label3, annot=True, cmap='Reds', fmt='g')"
      ]
    },
    {
      "cell_type": "code",
      "execution_count": null,
      "metadata": {
        "id": "RU4N--q_b6w1",
        "outputId": "8854bd41-e695-441a-ec8b-03e0955d16d6"
      },
      "outputs": [
        {
          "name": "stdout",
          "output_type": "stream",
          "text": [
            "              precision    recall  f1-score   support\n",
            "\n",
            "     Class 0       0.95      0.95      0.95        56\n",
            "     Class 1       0.93      0.93      0.93        43\n",
            "\n",
            "    accuracy                           0.94        99\n",
            "   macro avg       0.94      0.94      0.94        99\n",
            "weighted avg       0.94      0.94      0.94        99\n",
            "\n"
          ]
        }
      ],
      "source": [
        "print(classification_report(y_test_final, model_prediction3, \n",
        "                            target_names = target_names))"
      ]
    },
    {
      "cell_type": "code",
      "execution_count": null,
      "metadata": {
        "id": "uUPjLfdKb6w2"
      },
      "outputs": [],
      "source": []
    },
    {
      "cell_type": "code",
      "execution_count": null,
      "metadata": {
        "id": "UC72fHkIb6w2"
      },
      "outputs": [],
      "source": []
    }
  ],
  "metadata": {
    "kernelspec": {
      "display_name": "Python 3",
      "language": "python",
      "name": "python3"
    },
    "language_info": {
      "codemirror_mode": {
        "name": "ipython",
        "version": 3
      },
      "file_extension": ".py",
      "mimetype": "text/x-python",
      "name": "python",
      "nbconvert_exporter": "python",
      "pygments_lexer": "ipython3",
      "version": "3.8.5"
    },
    "colab": {
      "provenance": []
    }
  },
  "nbformat": 4,
  "nbformat_minor": 0
}